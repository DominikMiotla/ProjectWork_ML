{
  "nbformat": 4,
  "nbformat_minor": 0,
  "metadata": {
    "colab": {
      "provenance": []
    },
    "kernelspec": {
      "name": "python3",
      "display_name": "Python 3"
    },
    "language_info": {
      "name": "python"
    }
  },
  "cells": [
    {
      "cell_type": "markdown",
      "source": [
        "# Draw Pivot Tree"
      ],
      "metadata": {
        "id": "aJd5es9WaqS4"
      }
    },
    {
      "cell_type": "markdown",
      "source": [
        "La funzione **draw_pivot_tree_from_text** prende in input\n",
        "* una stringa testuale che rappresenta un albero decisionale strutturato tramite indentazione e simboli\n",
        "\n",
        "e ne costruisce una rappresentazione grafica utilizzando la libreria graphviz. I nodi dell'albero possono essere di due tipi:\n",
        "* nodi decisionali, che rappresentano condizioni su pivot e medoid, e\n",
        "* nodi foglia, che riportano un'etichetta, un conteggio e un peso.\n",
        "\n",
        "La struttura dell'albero viene ricostruita analizzando l'indentazione delle righe e mantenendo la gerarchia tra i nodi grazie a una mappa dei livelli. Il risultato è un oggetto Digraph che può essere visualizzato o esportato per rappresentare graficamente l’albero."
      ],
      "metadata": {
        "id": "f87mOPQeaIDX"
      }
    },
    {
      "cell_type": "code",
      "execution_count": 1,
      "metadata": {
        "id": "ByBJKpB0Zxkf"
      },
      "outputs": [],
      "source": [
        "import re\n",
        "from graphviz import Digraph\n",
        "\n",
        "def draw_pivot_tree_from_text(tree_str: str):\n",
        "    lines = tree_str.strip().split('\\n')\n",
        "    dot = Digraph()\n",
        "    dot.attr('node', shape='box')\n",
        "\n",
        "    stack = []\n",
        "    node_id_counter = [0]\n",
        "\n",
        "    def new_id():\n",
        "        node_id_counter[0] += 1\n",
        "        return f\"n{node_id_counter[0]}\"\n",
        "\n",
        "    parent_map = {}\n",
        "\n",
        "    for line in lines:\n",
        "        indent = len(re.match(r'^\\s*', line).group())\n",
        "        content = line.strip()\n",
        "\n",
        "        if content.startswith('|--> label:'):\n",
        "            match = re.match(r'\\|--> label: (\\d+) \\((\\d+), ([\\d.]+)\\)', content)\n",
        "            if match:\n",
        "                label, count, weight = match.groups()\n",
        "                nid = new_id()\n",
        "                dot.node(nid, f'label: {label}\\n({count}, {weight})')\n",
        "                parent = parent_map.get(indent - 2)\n",
        "                if parent:\n",
        "                    dot.edge(parent, nid)\n",
        "        elif content.startswith('|-+') or content.startswith('-+'):\n",
        "            match_simple = re.search(r'pivot: (\\d+)\\s*<=\\s*([-\\d.]+)', content)\n",
        "            match_combo = re.search(r'(-?[\\d.]+)\\s*.*pivot: (\\d+)\\s*\\+\\s*([\\d.]+)\\s*.*medoid: (\\d+)\\s*<=\\s*([-\\d.]+)', content)\n",
        "\n",
        "            nid = new_id()\n",
        "            if match_combo:\n",
        "                a1, p1, a2, m2, thres = match_combo.groups()\n",
        "                expr = f'{a1} * s(x, pivot{p1}) + {a2} * s(x, medoid{m2}) <= {thres}'\n",
        "            elif match_simple:\n",
        "                pivot, thres = match_simple.groups()\n",
        "                expr = f's(x, pivot{pivot}) <= {thres}'\n",
        "            else:\n",
        "                expr = content\n",
        "\n",
        "            dot.node(nid, expr)\n",
        "            parent = parent_map.get(indent - 2)\n",
        "            if parent:\n",
        "                dot.edge(parent, nid)\n",
        "            parent_map[indent] = nid\n",
        "\n",
        "    return dot\n"
      ]
    },
    {
      "cell_type": "markdown",
      "source": [
        "## Esempio"
      ],
      "metadata": {
        "id": "hdAP5fRSay3o"
      }
    },
    {
      "cell_type": "markdown",
      "source": [
        "La **variabile pivot_tree_str** contiene un’istanza di esempio di un albero decisionale basato su pivot, rappresentato in formato testuale. La struttura dell’albero è espressa attraverso l’uso di indentazione e simboli (|-+, |-->) per distinguere i nodi interni *(condizioni decisionali su pivot e medoid)* dalle foglie *(etichette di classificazione con conteggi e pesi)*. Questo esempio viene utilizzato per testare la funzione draw_pivot_tree_from_text, che interpreta il testo e genera un grafo visualizzabile tramite graphviz."
      ],
      "metadata": {
        "id": "0267SYZgbFbe"
      }
    },
    {
      "cell_type": "code",
      "source": [
        "pivot_tree_str = \"\"\"|-+ if node_id: 0  pivot: 40 <= 1.58:\n",
        "  |--> label: 0 (31, 0.3)\n",
        "  |-+ if node_id: 2  pivot: 73 <= 1.54:\n",
        "    |--> label: 1 (32, 0.3)\n",
        "    |-+ if -0.44 node_id: 4  pivot: 4 + 0.58 node_id: 4  medoid: 39 <= -0.38:\n",
        "      |-+ if node_id: 7  pivot: 47 <= 0.57:\n",
        "        |--> label: 2 (7, 0.07)\n",
        "        |--> label: 1 (4, 0.04)\n",
        "      |--> label: 2 (31, 0.3)\"\"\"\n",
        "\n",
        "dot = draw_pivot_tree_from_text(pivot_tree_str)\n",
        "dot.render('pivot_tree_parsed', format='png', view=True)\n"
      ],
      "metadata": {
        "id": "rRswwzYbZ72a"
      },
      "execution_count": null,
      "outputs": []
    }
  ]
}